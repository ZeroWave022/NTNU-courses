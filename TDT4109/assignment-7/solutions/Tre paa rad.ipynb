{
 "cells": [
  {
   "cell_type": "markdown",
   "metadata": {
    "deletable": false,
    "editable": false,
    "run_control": {
     "frozen": true
    }
   },
   "source": [
    "<nav class=\"navbar navbar-default\">\n",
    "  <div class=\"container-fluid\">\n",
    "    <div class=\"navbar-header\">\n",
    "      <a class=\"navbar-brand\" href=\"_Oving7.ipynb\">Øving 7</a>\n",
    "    </div>\n",
    "    <ul class=\"nav navbar-nav\">\n",
    "    <li ><a href=\"Generelt%20om%20dictionary.ipynb\">Generelt om dictionary</a></li>\n",
    "    <li ><a href=\"Innebygde%20funksjoner%20i%20dictionaries.ipynb\">Innebygde funksjoner</a></li>\n",
    "    <li ><a href=\"Generelt%20om%20sets.ipynb\">Generelt om sets</a></li>\n",
    "    <li ><a href=\"Generelt%20om%20filbehandling.ipynb\">Generelt om filbehandling</a></li>\n",
    "    <li ><a href=\"Osteviruset.ipynb\">Osteviruset</a></li>\n",
    "    <li ><a href=\"Bursdagsdatabasen.ipynb\">Bursdagsdatabasen</a></li>\n",
    "    <li ><a href=\"Tallak%20teller%20antall%20tall.ipynb\">Tallak teller antall tall</a></li>\n",
    "    <li ><a href=\"Opptaksgrenser.ipynb\">Opptaksgrenser</a></li>\n",
    "        <li ><a href=\"Soke%20i%20tekst.ipynb\">Søke i tekst</a></li>\n",
    "    <li class=\"active\"><a href=\"Tre%20paa%20rad.ipynb\">Tre på rad</a></li>\n",
    "    </ul>\n",
    "  </div>\n",
    "</nav>\n",
    "\n",
    "# Tre på rad\n",
    "\n",
    "**Læringsmål:**\n",
    "\n",
    "* Lister\n",
    "* Funksjoner \n",
    "* Betingelser\n",
    "* Strenger\n",
    " \n",
    "I denne oppgaven skal du implementere det populære spillet 3 på rad. Spillet er for to spillere; x og o, som plasserer brikker . En spiller vinner om den klarer å få 3 på rad, enten horisontalt, vertikalt eller diagonalt.\n",
    "\n",
    "\n",
    "**a)** Lag en funksjon som skriver ut brettet, det kan f.eks. se slikt ut om du vil:\n",
    "\n",
    "```python\n",
    "    1   2   3\n",
    "  -------------\n",
    "1 |   |   |   |\n",
    "  -------------\n",
    "2 |   |   |   |\n",
    "  -------------\n",
    "3 |   |   |   |\n",
    "  -------------\n",
    "```"
   ]
  },
  {
   "cell_type": "code",
   "execution_count": 16,
   "metadata": {},
   "outputs": [],
   "source": [
    "def show_board(positions):\n",
    "    print(\"    1   2   3\")\n",
    "    print(\"  -------------\")\n",
    "    print(f\"1 | {positions[0][0]} | {positions[0][1]} | {positions[0][2]} |\")\n",
    "    print(\"  -------------\")\n",
    "    print(f\"2 | {positions[1][0]} | {positions[1][1]} | {positions[1][2]} |\")\n",
    "    print(\"  -------------\")\n",
    "    print(f\"3 | {positions[2][0]} | {positions[2][1]} | {positions[2][2]} |\")\n",
    "    print(\"  -------------\")\n"
   ]
  },
  {
   "cell_type": "markdown",
   "metadata": {
    "deletable": false,
    "editable": false,
    "run_control": {
     "frozen": true
    }
   },
   "source": [
    "**b)** Lag en funksjon som sjekker om en spiller har vunnet"
   ]
  },
  {
   "cell_type": "code",
   "execution_count": 17,
   "metadata": {},
   "outputs": [],
   "source": [
    "def check_win(positions):\n",
    "    # Horizontal wins\n",
    "    for row in positions:\n",
    "        if all(r == \"O\" for r in row):\n",
    "            return \"O\"\n",
    "        elif all(r == \"X\" for r in row):\n",
    "            return \"X\"\n",
    "\n",
    "    # Vertical wins\n",
    "    for row_num in range(len(positions)):\n",
    "        if all(row[row_num] == \"O\" for row in positions):\n",
    "            return \"O\"\n",
    "        if all(row[row_num] == \"X\" for row in positions):\n",
    "            return \"X\"\n",
    "\n",
    "    # Diagonal wins\n",
    "    if positions[0][0] == positions[1][1] == positions[2][2]:\n",
    "        return positions[0][0]\n",
    "    elif positions[0][2] == positions[1][1] == positions[2][0]:\n",
    "        return positions[0][2]\n",
    "\n",
    "    return None\n"
   ]
  },
  {
   "cell_type": "markdown",
   "metadata": {
    "deletable": false,
    "editable": false,
    "run_control": {
     "frozen": true
    }
   },
   "source": [
    "**c)** Lag en funksjon som tar inn navnene til de to brukerne."
   ]
  },
  {
   "cell_type": "code",
   "execution_count": 18,
   "metadata": {},
   "outputs": [],
   "source": [
    "def fetch_players():\n",
    "    return (input(\"Navn på spiller 1: \"), input(\"Navn på spiller 2: \"))"
   ]
  },
  {
   "cell_type": "markdown",
   "metadata": {
    "deletable": false,
    "editable": false,
    "run_control": {
     "frozen": true
    }
   },
   "source": [
    "**d)** Lag en funksjon som sjekker om et trekk er lovlig, altså at det ikke finnes andre brikker der."
   ]
  },
  {
   "cell_type": "code",
   "execution_count": 19,
   "metadata": {},
   "outputs": [],
   "source": [
    "def allowed_to_place(positions, location):\n",
    "    return positions[location[0]][location[1]] == \" \""
   ]
  },
  {
   "cell_type": "markdown",
   "metadata": {
    "deletable": false,
    "editable": false,
    "run_control": {
     "frozen": true
    }
   },
   "source": [
    "**e)** Lag en funksjon som sjekker at input fra brukeren er riktig, altså at man ikke skriver inn rare tegn, eller skriver inn koordinater utenfor spillebrettet."
   ]
  },
  {
   "cell_type": "code",
   "execution_count": 20,
   "metadata": {},
   "outputs": [],
   "source": [
    "def location_possible(location):\n",
    "    return 0 <= location[0] < 3 and 0 <= location[1] < 3"
   ]
  },
  {
   "cell_type": "markdown",
   "metadata": {
    "deletable": false,
    "editable": false,
    "run_control": {
     "frozen": true
    }
   },
   "source": [
    "**f)** Sett dette sammen til et fullverdig 3 på rad spill!"
   ]
  },
  {
   "cell_type": "code",
   "execution_count": null,
   "metadata": {},
   "outputs": [],
   "source": [
    "def main():\n",
    "    board = [[\" \", \" \", \" \"] for _ in range(3)]\n",
    "    player_1, player_2 = fetch_players()\n",
    "    current_player = player_1\n",
    "    while True:\n",
    "        current_symbol = \"X\" if current_player == player_1 else \"O\"\n",
    "        place_at = input(f\"Hvor vil {current_player} plassere en {current_symbol}? (Skriv kun 'rad,kolonne'): \")\n",
    "        place_at = [int(num) - 1 for num in place_at.split(\",\")]\n",
    "        if not location_possible(place_at) or not allowed_to_place(board, place_at):\n",
    "            print(\"Kan ikke plassere der! Velg en annen plass\")\n",
    "            continue\n",
    "        board[place_at[0]][place_at[1]] = current_symbol\n",
    "        current_player = player_1 if current_player == player_2 else player_2\n",
    "        show_board(board)\n",
    "        if check_win(board) == \"X\":\n",
    "            print(f\"{player_1} vinner!\")\n",
    "            break\n",
    "        elif check_win(board) == \"O\":\n",
    "            print(f\"{player_2} vinner!\")\n",
    "            break\n",
    "\n",
    "\n",
    "if __name__ == \"__main__\":\n",
    "    main()\n"
   ]
  }
 ],
 "metadata": {
  "kernelspec": {
   "display_name": "Python 3",
   "language": "python",
   "name": "python3"
  },
  "language_info": {
   "codemirror_mode": {
    "name": "ipython",
    "version": 3
   },
   "file_extension": ".py",
   "mimetype": "text/x-python",
   "name": "python",
   "nbconvert_exporter": "python",
   "pygments_lexer": "ipython3",
   "version": "3.11.3"
  },
  "toc": {
   "base_numbering": 1,
   "nav_menu": {},
   "number_sections": false,
   "sideBar": true,
   "skip_h1_title": false,
   "title_cell": "Table of Contents",
   "title_sidebar": "Contents",
   "toc_cell": false,
   "toc_position": {},
   "toc_section_display": true,
   "toc_window_display": false
  }
 },
 "nbformat": 4,
 "nbformat_minor": 2
}
