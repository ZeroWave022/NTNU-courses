{
 "cells": [
  {
   "cell_type": "markdown",
   "metadata": {
    "deletable": false,
    "editable": false,
    "run_control": {
     "frozen": true
    }
   },
   "source": [
    "<nav class=\"navbar navbar-default\">\n",
    "  <div class=\"container-fluid\">\n",
    "    <div class=\"navbar-header\">\n",
    "      <a class=\"navbar-brand\" href=\"_Oving6.ipynb\">Øving 6</a>\n",
    "    </div>\n",
    "    <ul class=\"nav navbar-nav\">\n",
    "    <li ><a href=\"Aksessering.ipynb\">Aksessering av karakter</a></li>\n",
    "    <li ><a href=\"Strenger%20og%20konkatinering.ipynb\">Konkatinering</a></li>\n",
    "    <li ><a href=\"Slicing.ipynb\">Slicing</a></li>\n",
    "    <li ><a href=\"Tekstbehandling.ipynb\">Tekstbehandling</a></li>\n",
    "    <li ><a href=\"Strenghandtering.ipynb\">Strenghåndtering</a></li>\n",
    "    <li ><a href=\"Innebygde%20funksjoner.ipynb\">Innebygde funksjoner og lister</a></li>\n",
    "    <li ><a href=\"Fjesboka.ipynb\">Fjesboka</a></li>\n",
    "    <li ><a href=\"Akkorder%20og%20toner.ipynb\">Akkorder og toner</a></li>\n",
    "    <li><a href=\"Ideel%20gasslov.ipynb\">Ideel Gasslov</a></li>\n",
    "    <li><a href=\"Sammenhengende%20tallrekke.ipynb\">Sammenhengende Tallrekke</a></li>\n",
    "    <li ><a href=\"Sortering.ipynb\">Sortering</a></li>\n",
    "    <li class=\"active\"><a href=\"Strengmanipulasjon.ipynb\">Strengmanipulasjon</a></li>\n",
    "    <li ><a href=\"Kryptering.ipynb\">Kryptering</a></li>\n",
    "    <li ><a href=\"Litt%20sjakk.ipynb\">Litt Sjakk</a></li>\n",
    "    </ul>\n",
    "  </div>\n",
    "</nav>\n",
    "\n",
    "# Strengmanipulasjon\n",
    "\n",
    "**Læringsmål:**\n",
    "\n",
    "* Strenger\n",
    "* Funksjoner\n",
    "* Lister\n",
    "* Løkker\n",
    "\n",
    "**Starting Out with Python:**\n",
    "\n",
    "* Kap. 8.3"
   ]
  },
  {
   "cell_type": "markdown",
   "metadata": {
    "deletable": false,
    "editable": false,
    "run_control": {
     "frozen": true
    }
   },
   "source": [
    "### a)"
   ]
  },
  {
   "cell_type": "markdown",
   "metadata": {
    "deletable": false,
    "editable": false,
    "run_control": {
     "frozen": true
    }
   },
   "source": [
    "Lag funksjonen `find_substring_indexes` som tar inn to strenger som argumenter (str1 og str2). Funksjonen skal finne plasseringen til alle substrengene av str1 i strengen str2. Den første indeksen til hver forekomst av str1 som substreng i str2 skal samles i en liste, og denne listen skal returneres.  \n",
    "Funksjonen tar ikke hensyn til store og små bokstaver, altså vil str2 = \"Is this the real life? Is this just fantasy?\" ha 4 substrenger av str1 = \"iS\"; \"**Is** th**is** the real life? **Is** th**is** just fantasy?\".\n",
    "\n",
    "**Eksempel på kjøring:**\n",
    "```python\n",
    "str1 = \"iS\", str2 = \"Is this the real life? Is this just fantasy?\"\n",
    "output -> [0, 5, 23, 28]\n",
    "  \n",
    "str1 = \"oo\", str2 = \"Never let you go let me go. Never let me go ooo\"      #Legg merke til at 'ooo' telles som to substrenger av 'oo'!\n",
    "output -> [44, 45]\n",
    "```\n",
    "\n",
    "***Skriv funksjonen i kodeblokken under og test at den fungerer som den skal:***"
   ]
  },
  {
   "cell_type": "code",
   "execution_count": null,
   "metadata": {},
   "outputs": [],
   "source": [
    "def find_substring_indexes(str1, str2):\n",
    "    str1 = str1.lower()\n",
    "    str2 = str2.lower()\n",
    "    locations = []\n",
    "    possible_substring = \"\"\n",
    "    index = 0\n",
    "    for i, char in enumerate(str2):\n",
    "        if char == str1[index]:\n",
    "            if index == 0:\n",
    "                starts_at = i\n",
    "            possible_substring += char\n",
    "            index += 1\n",
    "        else:\n",
    "            possible_substring = \"\"\n",
    "            index = 0\n",
    "        if possible_substring == str1:\n",
    "            locations.append(starts_at)\n",
    "            possible_substring = possible_substring[-1]\n",
    "            index = 1\n",
    "            starts_at = i\n",
    "    return locations\n",
    "\n",
    "\n",
    "print(find_substring_indexes(\"iS\", \"Is this the real life? Is this just fantasy?\"))\n",
    "print(find_substring_indexes(\"oo\", \"Never let you go let me go. Never let me go ooo\"))\n"
   ]
  },
  {
   "cell_type": "markdown",
   "metadata": {
    "deletable": false,
    "editable": false,
    "run_control": {
     "frozen": true
    }
   },
   "source": [
    "### b)"
   ]
  },
  {
   "cell_type": "markdown",
   "metadata": {
    "deletable": false,
    "editable": false,
    "run_control": {
     "frozen": true
    }
   },
   "source": [
    "Nå skal du lage en funksjon som tar inn tre strenger som argumenter (str1, str2 og str3). Funksjonen skal finne alle substrenger av str1 i str2, og returnere en streng der disse substrengene i str2 er endret til str3. (Dette skal gjøres uten å bruke innebygde funksjoner.)\n",
    "\n",
    "**Eksempel på kjøring:**\n",
    "```\n",
    "str1 = \"iS\", str2 = \"Is this the real life? Is this just fantasy?\", str3 = \"cool\"\n",
    "output -> cool thcool the real life? cool thcool just fantasy?\n",
    "  \n",
    "str1 = \"oo\", str2 = \"Never let you goooo let me goo. Never let me goo oooo\", str3 = \"cool\"\n",
    "output -> Never let you gcoolcoolcool let me gcool. Never let me gcool coolcoolcool\n",
    "```\n",
    "\n",
    "***Skriv funksjonen i kodeblokken under og test at den fungerer som den skal:***"
   ]
  },
  {
   "cell_type": "code",
   "execution_count": null,
   "metadata": {},
   "outputs": [],
   "source": [
    "def substring_replace(str1, str2, str3):\n",
    "    indexes = find_substring_indexes(str1, str2)\n",
    "    new = \"\"\n",
    "    current_index = 0\n",
    "    for index in indexes:\n",
    "        new += str2[current_index:index] + str3\n",
    "        current_index = index + len(str3) - len(str1)\n",
    "\n",
    "    if current_index < len(str2):\n",
    "        new += str2[current_index:]\n",
    "    return new\n",
    "\n",
    "print(substring_replace(\"iS\", \"Is this the real life? Is this just fantasy?\", \"cool\"))\n",
    "print(substring_replace(\"oo\", \"Never let you goooo let me goo. Never let me goo oooo\", \"cool\"))\n"
   ]
  },
  {
   "cell_type": "markdown",
   "metadata": {
    "deletable": false,
    "editable": false,
    "heading_collapsed": true,
    "run_control": {
     "frozen": true
    }
   },
   "source": [
    "#### Hint"
   ]
  },
  {
   "cell_type": "markdown",
   "metadata": {
    "deletable": false,
    "editable": false,
    "hidden": true,
    "run_control": {
     "frozen": true
    }
   },
   "source": [
    "Bruk funksjonen fra a)."
   ]
  }
 ],
 "metadata": {
  "kernelspec": {
   "display_name": "Python 3",
   "language": "python",
   "name": "python3"
  },
  "language_info": {
   "codemirror_mode": {
    "name": "ipython",
    "version": 3
   },
   "file_extension": ".py",
   "mimetype": "text/x-python",
   "name": "python",
   "nbconvert_exporter": "python",
   "pygments_lexer": "ipython3",
   "version": "3.11.9"
  },
  "toc": {
   "base_numbering": 1,
   "nav_menu": {},
   "number_sections": false,
   "sideBar": true,
   "skip_h1_title": false,
   "title_cell": "Table of Contents",
   "title_sidebar": "Contents",
   "toc_cell": false,
   "toc_position": {},
   "toc_section_display": true,
   "toc_window_display": false
  }
 },
 "nbformat": 4,
 "nbformat_minor": 2
}
