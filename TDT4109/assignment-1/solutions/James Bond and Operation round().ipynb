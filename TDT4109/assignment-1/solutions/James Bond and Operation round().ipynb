{
 "cells": [
  {
   "cell_type": "markdown",
   "metadata": {
    "deletable": false,
    "editable": false,
    "run_control": {
     "frozen": true
    }
   },
   "source": [
    "<nav class=\"navbar navbar-default\">\n",
    "  <div class=\"container-fluid\">\n",
    "    <div class=\"navbar-header\">\n",
    "      <a class=\"navbar-brand\" href=\"_Oving1.ipynb\">Øving 1</a>\n",
    "    </div>\n",
    "    <ul class=\"nav navbar-nav\">\n",
    "        <li><a href=\"Intro%20til%20jupyter.ipynb\">Intro til Jupyter</a></li>\n",
    "      <li ><a href=\"Jeg%20elsker%20ITGK!.ipynb\">Jeg elsker ITGK!</a></li>\n",
    "    <li ><a href=\"Kalkulasjoner.ipynb\">Kalkulasjoner</a></li>\n",
    "    <li><a href=\"Input%20og%20variable.ipynb\">Input og variable</a></li>\n",
    "    <li><a href=\"Tallkonvertering.ipynb\">Tallkonvertering</a></li>\n",
    "    <li ><a href=\"Peppes%20Pizza.ipynb\">Peppes Pizza</a></li>\n",
    "    <li ><a href=\"Geometri.ipynb\">Geometri</a></li>\n",
    "    <li ><a href=\"Vitenskapelig%20notasjon.ipynb\">Vitenskapelig notasjon</a></li>\n",
    "    <li ><a href=\"Tetraeder.ipynb\">Tetraeder</a></li>\n",
    "    <li ><a href=\"Bakekurs.ipynb\">Bakekurs</a></li>\n",
    "    <li class=\"active\"><a href=\"James%20Bond%20and%20Operation%20round().ipynb\">James Bond and Operation Round</a></li>\n",
    "    </ul>\n",
    "  </div>\n",
    "</nav>\n",
    "\n",
    "# James Bond and Operation round()\n",
    "\n",
    "**Læringsmål:**\n",
    "\n",
    "* Bruk av heltallsdivisjon og modulo, konvertering av data\n",
    "\n",
    "* Avrunding\n",
    "* (særlig c) Oppdeling / håndtering av strenger\n",
    "\n",
    "**Starting Out with Python:**\n",
    "\n",
    "* Kap. 2.3\n",
    "\n",
    "* Kap. 3.1\n",
    "\n",
    "* Kap. 4.2\n",
    "\n",
    "* Kap. 8.2"
   ]
  },
  {
   "cell_type": "markdown",
   "metadata": {
    "deletable": false,
    "editable": false,
    "run_control": {
     "frozen": true
    }
   },
   "source": [
    "## a) Kjøpmannsavrunding"
   ]
  },
  {
   "cell_type": "markdown",
   "metadata": {
    "deletable": false,
    "editable": false,
    "run_control": {
     "frozen": true
    }
   },
   "source": [
    "\"Kjøpmannsavrunding\" innebærer at man alltid runder opp når et tall er midt mellom to runde tall. F.eks. at 2.5 rundes til 3 og 3.5 til 4 hvis vi skal ha hele tall, og 2.25 likeledes rundes til 2.3 hvis vi skal ha en desimal. Som forklart i tutorial i oppgaven Tallkonvertering (tidligere i denne samme øvingen) bruker Pythons funksjon `round()` **ikke** kjøpmannsavrunding, men runder i stedet i partallsretning i situasjoner hvor tallet er midt mellom to alternativer. Dvs., 2.5 vil da rundes ned til 2 fordi 2 er partall, mens 3.5 rundes opp til 4. Det er fornuftige grunner til dette (unngå systematiske feil som man får hvis man alltid runder opp). I noen situasjoner - f.eks. hvis man er kjøpmann - kan det imidlertid være at man faktisk ønsker kjøpmannsavrunding.\n",
    "\n",
    "Oppgaven din her er å lage et program som får til kjøpmannsavrunding. Det skal be bruker om å skrive inn et desimaltall, samt ønsket antall desimaler det skal avrundes til - og så foreta denne avrundingen. Dette må da gjøres på annet vis enn å bruke Pythons `round()`-funksjon, siden du f.eks. skal runde 2.5 til 3 (hvis null desimaler) og 2.25 til 2.3 (hvis en desimal) mens `round()` ville runde nedover her. Et par eksempler på kjøring:\n",
    "\n",
    "  \n",
    "```python\n",
    "Gi inn et desimaltall: 2.5  \n",
    "Antall desimaler i avrunding: 0  \n",
    "Avrundet til 0 desimaler: 3\n",
    "```\n",
    "  \n",
    "```python\n",
    "Gi inn et desimaltall: 2.25  \n",
    "Antall desimaler i avrunding: 1  \n",
    "Avrundet til 1 desimal: 2.3\n",
    "```\n",
    "  \n",
    "```python\n",
    "Gi inn et desimaltall: 2500.0  \n",
    "Antall desimaler i avrunding: -3  \n",
    "Avrundet til -3 desimaler: 3000  \n",
    "```\n",
    "\n",
    "Som eksemplet viser skal det også være mulig å gi inn negativt antall desimaler for å få grovere avrunding enn nærmeste heltall. Også da med kjøpmannsavrunding (dvs. 2500 blir 3000, ikke 2000).\n",
    "\n",
    "***Skriv koden din i blokka under.***"
   ]
  },
  {
   "cell_type": "code",
   "execution_count": null,
   "metadata": {},
   "outputs": [],
   "source": [
    "raw_number = float(input(\"Gi inn et desimaltall: \"))\n",
    "decimals_wanted = int(input(\"Antall desimaler i avrunding: \"))\n",
    "\n",
    "number, decimals = str(raw_number).split(\".\")\n",
    "\n",
    "if decimals_wanted > len(decimals) or decimals_wanted < -len(number):\n",
    "    print(\"Kan ikke avrunde til flere desimaler enn det som finnes allerede.\")\n",
    "    exit()\n",
    "\n",
    "if decimals_wanted >= 1:\n",
    "    if len(decimals) >= 1:\n",
    "        decimals = int(decimals[:decimals_wanted]) + 1\n",
    "else:\n",
    "    # Det avrundede tallet er det første sifferet pluss 1, så multiplisert med riktig antall nuller\n",
    "    number = (int(number[decimals_wanted-1]) + 1) * 10**(len(number)-1)\n",
    "    decimals = 0\n",
    "\n",
    "if decimals != 0:\n",
    "    result = float(f\"{number}.{decimals}\")\n",
    "else:\n",
    "    result = number\n",
    "\n",
    "print(f\"Avrundet til {decimals_wanted} desimaler: {result}\")"
   ]
  },
  {
   "cell_type": "markdown",
   "metadata": {
    "deletable": false,
    "editable": false,
    "run_control": {
     "frozen": true
    }
   },
   "source": [
    "## b) Avrunding som unngår unøyaktig tallrepresentasjon"
   ]
  },
  {
   "cell_type": "markdown",
   "metadata": {
    "deletable": false,
    "editable": false,
    "run_control": {
     "frozen": true
    }
   },
   "source": [
    "Selv hvis vi er fornøyde med IEEE-standarden for avrunding (heller enn kjøpmannsavrunding), kan `round()` av og til gi overraskende resultater. F.eks.\n",
    "\n",
    "* `round(2.50000000000000000001)` gir 2, selv om tallet er litt nærmere 3\n",
    "* `round(2.15, 1)` gir 2.1, selv om regelen om å gå mot partall skulle tilsi 2.2\n",
    "\n",
    "Begge disse og andre lignende tilfeller skyldes egentlig ikke noen feil ved `round()`-funksjonen, men problemer med selve representasjonen av tall i det binære systemet.\n",
    "\n",
    "2.50000000000000000001 lar seg ikke representere eksakt i maskinen, så den tar det nærmeste den får til, som her blir 2.5 - og dermed vipper `round()` ned.\n",
    "\n",
    "2.15 lar seg heller ikke representere eksakt (i det binære tallsystemet, selv om det kun trengs tre siffer i titallssystemet), det nærmeste maskinen får til er 2.14999999999999999999. Dermed ligger tallet ikke lenger midt imellom men litt nærmere 2.1, så avrunding vipper ned.\n",
    "\n",
    "Oppgaven her er å lage et program som klarer å avrunde korrekt selv med slike tall som dette. For å klare oss mest mulig med det som er undervist av pensum hittil, kan heltallsdelen og desimaldelen til tallet vi skal behandle, leses inn hver for seg. Eksempel på kjøring blir da:\n",
    "\n",
    "  \n",
    "```python\n",
    "Oppgi heltallsdelen av tallet (det foran punktum): 2\n",
    "Oppgi desimaldelen av tallet (det bak punktum): 5\n",
    "Oppgi ønsket antall desimaler i avrunding: 0\n",
    "2.5 avrundet til 0 desimaler blir 2\n",
    "\n",
    "Oppgi heltallsdelen av tallet (det foran punktum): 2\n",
    "Oppgi desimaldelen av tallet (det bak punktum): 15\n",
    "Oppgi ønsket antall desimaler i avrunding: 1\n",
    "2.15 avrundet til 1 desimal blir 2.2\n",
    "\n",
    "Oppgi heltallsdelen av tallet (det foran punktum): 2\n",
    "Oppgi desimaldelen av tallet (det bak punktum): 500000000000000000001\n",
    "Oppgi ønsket antall desimaler i avrunding: 0\n",
    "2.500000000000000000001 avrundet til 0 desimaler blir 3\n",
    "```\n",
    "\n",
    "Denne oppgaven går delvis utenfor det som undervist hittil i emnet.\n",
    "\n",
    "***Skriv koden din i blokka under.***"
   ]
  },
  {
   "cell_type": "code",
   "execution_count": null,
   "metadata": {},
   "outputs": [],
   "source": [
    "number = int(input(\"Oppgi heltallsdelen av tallet (det foran punktum): \"))\n",
    "decimals = input(\"Oppgi desimaldelen av tallet (det bak punktum): \")\n",
    "decimals_wanted = int(input(\"Oppgi ønsket antall desimaler i avrunding: \"))\n",
    "\n",
    "if decimals_wanted > 0:\n",
    "    new_number = number\n",
    "    if int(decimals[decimals_wanted]) >= 5:\n",
    "        new_decimals = int(decimals[:decimals_wanted]) + 1\n",
    "    else:\n",
    "        new_decimals = decimals[:decimals_wanted]\n",
    "else:\n",
    "    new_decimals = 0\n",
    "    if int(decimals) >= 5:\n",
    "        new_number = number + 1\n",
    "    else:\n",
    "        new_number = number if number % 2 == 0 else number + 1\n",
    "\n",
    "if new_decimals != 0:\n",
    "    print(f\"{number}.{decimals} avrundet til {decimals_wanted} desimaler blir {new_number}.{new_decimals}\")\n",
    "else:\n",
    "    print(f\"{number}.{decimals} avrundet til {decimals_wanted} desimaler blir {new_number}\")"
   ]
  },
  {
   "cell_type": "markdown",
   "metadata": {
    "deletable": false,
    "editable": false,
    "run_control": {
     "frozen": true
    }
   },
   "source": [
    "## c) Strenghåndtering"
   ]
  },
  {
   "cell_type": "markdown",
   "metadata": {
    "deletable": false,
    "editable": false,
    "run_control": {
     "frozen": true
    }
   },
   "source": [
    "Lag et program hvor brukeren skriver inn navnet sitt fra tastaturet etter ledeteksten \"Jeg heter:\", og la maskinen svare med setningen The name is... som vist i boksen under.\n",
    "\n",
    "  \n",
    "```\n",
    "Jeg heter: James Bond\n",
    "The name is Bond, James Bond\n",
    "```\n",
    "\n",
    "Her vil du mest sannsynlig måtte benytte deg av programmeringsmekanismer som ikke er forelest ennå, enten if-setninger, løkker og strengindeksering, eller strengmetoder som `split()` med tilhørende listebehandling. Hvis du vil gjøre det ekstra vanskelig for deg selv (**VALGFRITT**, ikke nødvendig for å få godkjent), prøv å lage et program som også funker for personer med flere enn to navn (f.eks. The name is Hopper, Grace Murray Hopper), men som tar hensyn til at preposisjoner som Von, Van, De, Di er del av etternavnet (f.eks. The name is Von Neumann, John Von Neumann; The name is De Morgan, Augustus De Morgan... dog likevel bare hvis dette kommer i midten, det må fortsatt bli The name is Morrison, Van Morrison). Dessuten, hvis et navn slutter med Jr, Sr eller romertall, er det ikke det siste ordet som er etternavnet men det nest siste: The name is Northug, Petter Northug Jr; The name is Huxtable, Henry Huxtable III.\n",
    "\n",
    "***Skriv koden din i blokka under.***"
   ]
  },
  {
   "cell_type": "code",
   "execution_count": null,
   "metadata": {},
   "outputs": [],
   "source": [
    "name = input(\"Jeg heter: \")\n",
    "names = name.split(\" \")\n",
    "\n",
    "# Bruker en funksjon siden det var enklere å få til mer leselig kode på denne måten.\n",
    "# Mindre gjentakelse fordi return avslutter programmer - slipper edge-cases på if-setninger.\n",
    "def generate_welcome_sentence(names):\n",
    "    last_name_prepositions = [\"von\", \"van\", \"de\", \"di\"]\n",
    "    suffixes = [\"i\", \"ii\", \"iii\", \"iv\", \"v\", \"vi\", \"vii\", \"viii\", \"ix\", \"x\", \"jr\", \"jr.\", \"sr\", \"sr.\"]\n",
    "\n",
    "    if names[-1].lower() in suffixes:\n",
    "        return f\"The name is {names[-2]}, {name}\"\n",
    "    if any(n.lower() in last_name_prepositions for n in names):\n",
    "        if names[0].lower() not in last_name_prepositions:\n",
    "            return f\"The name is {' '.join(names[-2:])}, {name}\"\n",
    "    return f\"The name is {names[-1]}, {name}\"\n",
    "\n",
    "print(generate_welcome_sentence(names))"
   ]
  }
 ],
 "metadata": {
  "kernelspec": {
   "display_name": "Python 3",
   "language": "python",
   "name": "python3"
  },
  "language_info": {
   "codemirror_mode": {
    "name": "ipython",
    "version": 3
   },
   "file_extension": ".py",
   "mimetype": "text/x-python",
   "name": "python",
   "nbconvert_exporter": "python",
   "pygments_lexer": "ipython3",
   "version": "3.11.3"
  },
  "toc": {
   "base_numbering": 1,
   "nav_menu": {},
   "number_sections": false,
   "sideBar": true,
   "skip_h1_title": false,
   "title_cell": "Table of Contents",
   "title_sidebar": "Contents",
   "toc_cell": false,
   "toc_position": {},
   "toc_section_display": true,
   "toc_window_display": false
  }
 },
 "nbformat": 4,
 "nbformat_minor": 2
}
